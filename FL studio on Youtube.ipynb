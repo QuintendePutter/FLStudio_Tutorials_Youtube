{
 "cells": [
  {
   "cell_type": "markdown",
   "id": "f4488951",
   "metadata": {},
   "source": [
    "# FL Studio Tuturials on Youtube"
   ]
  },
  {
   "cell_type": "markdown",
   "id": "4addbe76",
   "metadata": {},
   "source": [
    "## Getting started"
   ]
  },
  {
   "cell_type": "code",
   "execution_count": null,
   "id": "3767e21b",
   "metadata": {},
   "outputs": [],
   "source": [
    "# Run this cell once, this will install the API client.\n",
    "pip install google-api-python-client"
   ]
  },
  {
   "cell_type": "markdown",
   "id": "9f9bfa6e",
   "metadata": {},
   "source": [
    "#### Once installed, restart and clean the kernel and continue from here:"
   ]
  },
  {
   "cell_type": "code",
   "execution_count": 1,
   "id": "e92c290e",
   "metadata": {},
   "outputs": [],
   "source": [
    "from googleapiclient.discovery import build\n",
    "import csv\n",
    "import time\n",
    "import os\n",
    "import json\n",
    "import pandas as pd\n",
    "pd.set_option('precision', 0)"
   ]
  },
  {
   "cell_type": "markdown",
   "id": "4720aadc",
   "metadata": {},
   "source": [
    "#### Create an api_key and store this credential as a Environment Variable on your local device\n",
    "In this project, the variable is defined in Terminal as  \"YOUTUBE_API\". For more information, check [this page](https://tilburgsciencehub.com/building-blocks/store-and-document-your-data/store-data/environment-variables/) or [this instructional video](https://www.youtube.com/watch?v=5iWhQWVXosU)."
   ]
  },
  {
   "cell_type": "code",
   "execution_count": 2,
   "id": "bf2c709d",
   "metadata": {},
   "outputs": [],
   "source": [
    "api_key = os.environ[\"YOUTUBE_API\"]"
   ]
  },
  {
   "cell_type": "code",
   "execution_count": 3,
   "id": "a99ac420",
   "metadata": {},
   "outputs": [],
   "source": [
    "youtube = build('youtube', 'v3', developerKey= api_key)"
   ]
  },
  {
   "cell_type": "markdown",
   "id": "ea47f2f8",
   "metadata": {},
   "source": [
    "#### Testing the systems\n",
    "The cells below will check whether the API functions. \n",
    "\n",
    "Within this document, each definition of a parameter, operation or function is explained within the cells. These definitions should be considered as the same throughout the project unless mentioned otherwise."
   ]
  },
  {
   "cell_type": "code",
   "execution_count": 4,
   "id": "c22a71a4",
   "metadata": {},
   "outputs": [
    {
     "name": "stdout",
     "output_type": "stream",
     "text": [
      "Total items:  5\n"
     ]
    }
   ],
   "source": [
    "# check the default number of results, this should give 5\n",
    "\n",
    "# .search = executes the search method \n",
    "# .list = retrieves a list of zero or more resources\n",
    "# q = query term\n",
    "# part = identifies group of properties that should be returned\n",
    "# type = type of resource\n",
    "# snippet = provides overview with information about the video such as titles, description, thumbnails and tags\n",
    "# .execute = executes the request\n",
    "\n",
    "request = youtube.search().list(\n",
    "            q='FL tutorial',\n",
    "            part='snippet',\n",
    "            type='video')\n",
    "response = request.execute()\n",
    "print('Total items: ' , len(response['items']))"
   ]
  },
  {
   "cell_type": "code",
   "execution_count": 5,
   "id": "f1278f26",
   "metadata": {
    "scrolled": true
   },
   "outputs": [
    {
     "name": "stdout",
     "output_type": "stream",
     "text": [
      "Total items:  50\n"
     ]
    }
   ],
   "source": [
    "# check the maximum number of results, this should give 50\n",
    "\n",
    "# maxResults = specifies the number of items that should be returned with a maximum of 50\n",
    "\n",
    "request = youtube.search().list(q='FL tutorial',part='snippet',type='video',maxResults=50)\n",
    "response = request.execute()\n",
    "print('Total items: ' , len(response['items']))"
   ]
  },
  {
   "cell_type": "markdown",
   "id": "ce1527b5",
   "metadata": {},
   "source": [
    "If the two cells above gave you the outputs **5** and **50** respectfully, the API works correctly."
   ]
  },
  {
   "cell_type": "markdown",
   "id": "dfe5d82f",
   "metadata": {},
   "source": [
    "#### Gathering the data"
   ]
  },
  {
   "cell_type": "code",
   "execution_count": 6,
   "id": "6f4a6644",
   "metadata": {
    "scrolled": true
   },
   "outputs": [],
   "source": [
    "# creates basic for data collection\n",
    "\n",
    "# \n",
    "#\n",
    "#\n",
    "# next_page = every page contains a nextPageToken and this is used to iterate over multiple pages\n",
    "\n",
    "\n",
    "no_requests = 0\n",
    "max_requests = 100\n",
    "\n",
    "search_res = []\n",
    "\n",
    "while no_requests <= max_requests:\n",
    "    try:\n",
    "        no_requests += 1\n",
    "        if (no_requests==1): \n",
    "            request = youtube.search().list(q='FL tutorial',part='snippet',type='video',maxResults=50)\n",
    "        else:\n",
    "            request = youtube.search().list(q='FL tutorial',part='snippet',type='video',maxResults=50, pageToken = next_page)\n",
    "\n",
    "        response = request.execute()\n",
    "        next_page = response['nextPageToken']\n",
    "    except:    \n",
    "        break\n",
    "    for item in response['items']:\n",
    "        search_res.append(item['snippet'])\n",
    "    time.sleep(2)"
   ]
  },
  {
   "cell_type": "code",
   "execution_count": 7,
   "id": "80502aaf",
   "metadata": {
    "scrolled": true
   },
   "outputs": [
    {
     "name": "stdout",
     "output_type": "stream",
     "text": [
      "Found 600 video IDs!\n"
     ]
    }
   ],
   "source": [
    "# makes a list of videoIDs\n",
    "\n",
    "videoIDs = []\n",
    "\n",
    "for item in search_res:\n",
    "    videoIDs.append(item['thumbnails']['default']['url'][23:34])\n",
    "\n",
    "print(\"Found \" + str(len(videoIDs)) + \" video IDs!\")"
   ]
  },
  {
   "cell_type": "code",
   "execution_count": 8,
   "id": "232725dd",
   "metadata": {
    "scrolled": false
   },
   "outputs": [],
   "source": [
    "# --- start of gathering statistics --- #\n",
    "cnt=0\n",
    "for vid in videoIDs:\n",
    "    cnt+=1\n",
    "    if (cnt==3): \n",
    "        break   # overview for only 3 results, just to give impression\n",
    "    stats = youtube.videos().list(part='statistics',id=vid)"
   ]
  },
  {
   "cell_type": "code",
   "execution_count": 9,
   "id": "f4d63de7",
   "metadata": {
    "scrolled": true
   },
   "outputs": [],
   "source": [
    "# response for stats \n",
    "response_stats = []\n",
    "\n",
    "for vid in videoIDs:\n",
    "    stats = youtube.videos().list(part='statistics',id=vid)\n",
    "    response_stats.append(stats.execute())\n",
    "    res_stats = {}\n",
    "    \n",
    "    for item in response_stats:\n",
    "        stats = item['items'][0]['statistics']\n",
    "        res_stats[item['items'][0]['id']] = stats"
   ]
  },
  {
   "cell_type": "code",
   "execution_count": 10,
   "id": "a7b6f1dc",
   "metadata": {},
   "outputs": [],
   "source": [
    "# output stats to json file\n",
    "import json\n",
    "converted_to_string = json.dumps(res_stats)\n",
    "f = open('stats_output.json', 'a', encoding='utf-8')\n",
    "f.write(converted_to_string + '\\n')\n",
    "f.close()"
   ]
  },
  {
   "cell_type": "code",
   "execution_count": 11,
   "id": "71fba301",
   "metadata": {
    "scrolled": true
   },
   "outputs": [],
   "source": [
    "# read json file for stats\n",
    "f = open('stats_output.json', 'r', encoding='utf-8')\n",
    "content = f.readlines()\n",
    "for item in content:\n",
    "    jsonobj = json.loads(item)\n",
    "    f.close()"
   ]
  },
  {
   "cell_type": "code",
   "execution_count": 39,
   "id": "3e751200",
   "metadata": {
    "scrolled": false
   },
   "outputs": [],
   "source": [
    "# write df for stats and convert to csv\n",
    "dfstats = pd.read_json(r'stats_output.json', orient = 'index')\n",
    "#dfstats.to_csv('video_statistics.csv', index_label ='id')"
   ]
  },
  {
   "cell_type": "code",
   "execution_count": 41,
   "id": "8dcea643",
   "metadata": {
    "scrolled": true
   },
   "outputs": [
    {
     "data": {
      "text/html": [
       "<div>\n",
       "<style scoped>\n",
       "    .dataframe tbody tr th:only-of-type {\n",
       "        vertical-align: middle;\n",
       "    }\n",
       "\n",
       "    .dataframe tbody tr th {\n",
       "        vertical-align: top;\n",
       "    }\n",
       "\n",
       "    .dataframe thead th {\n",
       "        text-align: right;\n",
       "    }\n",
       "</style>\n",
       "<table border=\"1\" class=\"dataframe\">\n",
       "  <thead>\n",
       "    <tr style=\"text-align: right;\">\n",
       "      <th></th>\n",
       "      <th>viewCount</th>\n",
       "      <th>likeCount</th>\n",
       "      <th>dislikeCount</th>\n",
       "      <th>commentCount</th>\n",
       "    </tr>\n",
       "  </thead>\n",
       "  <tbody>\n",
       "    <tr>\n",
       "      <th>pDIsEZsalAo</th>\n",
       "      <td>7291607</td>\n",
       "      <td>203813</td>\n",
       "      <td>2237</td>\n",
       "      <td>7001</td>\n",
       "    </tr>\n",
       "    <tr>\n",
       "      <th>Lc4SHa-O4T0</th>\n",
       "      <td>1406260</td>\n",
       "      <td>66629</td>\n",
       "      <td>649</td>\n",
       "      <td>2540</td>\n",
       "    </tr>\n",
       "    <tr>\n",
       "      <th>jYBjcEVTSB8</th>\n",
       "      <td>294957</td>\n",
       "      <td>14661</td>\n",
       "      <td>136</td>\n",
       "      <td>722</td>\n",
       "    </tr>\n",
       "    <tr>\n",
       "      <th>x5-GweOYXtk</th>\n",
       "      <td>361492</td>\n",
       "      <td>8440</td>\n",
       "      <td>103</td>\n",
       "      <td>341</td>\n",
       "    </tr>\n",
       "    <tr>\n",
       "      <th>69Vpk3VKXBE</th>\n",
       "      <td>1546009</td>\n",
       "      <td>29824</td>\n",
       "      <td>1030</td>\n",
       "      <td>921</td>\n",
       "    </tr>\n",
       "    <tr>\n",
       "      <th>...</th>\n",
       "      <td>...</td>\n",
       "      <td>...</td>\n",
       "      <td>...</td>\n",
       "      <td>...</td>\n",
       "    </tr>\n",
       "    <tr>\n",
       "      <th>qjArVukPOQo</th>\n",
       "      <td>412</td>\n",
       "      <td>39</td>\n",
       "      <td>0</td>\n",
       "      <td>6</td>\n",
       "    </tr>\n",
       "    <tr>\n",
       "      <th>VONBCPYE5GE</th>\n",
       "      <td>1</td>\n",
       "      <td>1</td>\n",
       "      <td>0</td>\n",
       "      <td>0</td>\n",
       "    </tr>\n",
       "    <tr>\n",
       "      <th>bzHwVr9D0Gc</th>\n",
       "      <td>54</td>\n",
       "      <td>5</td>\n",
       "      <td>0</td>\n",
       "      <td>1</td>\n",
       "    </tr>\n",
       "    <tr>\n",
       "      <th>kabRCLkQgfA</th>\n",
       "      <td>165</td>\n",
       "      <td>10</td>\n",
       "      <td>1</td>\n",
       "      <td>3</td>\n",
       "    </tr>\n",
       "    <tr>\n",
       "      <th>MfOMhlgP6Qs</th>\n",
       "      <td>30</td>\n",
       "      <td>6</td>\n",
       "      <td>0</td>\n",
       "      <td>2</td>\n",
       "    </tr>\n",
       "  </tbody>\n",
       "</table>\n",
       "<p>583 rows × 4 columns</p>\n",
       "</div>"
      ],
      "text/plain": [
       "             viewCount  likeCount  dislikeCount  commentCount\n",
       "pDIsEZsalAo    7291607     203813          2237          7001\n",
       "Lc4SHa-O4T0    1406260      66629           649          2540\n",
       "jYBjcEVTSB8     294957      14661           136           722\n",
       "x5-GweOYXtk     361492       8440           103           341\n",
       "69Vpk3VKXBE    1546009      29824          1030           921\n",
       "...                ...        ...           ...           ...\n",
       "qjArVukPOQo        412         39             0             6\n",
       "VONBCPYE5GE          1          1             0             0\n",
       "bzHwVr9D0Gc         54          5             0             1\n",
       "kabRCLkQgfA        165         10             1             3\n",
       "MfOMhlgP6Qs         30          6             0             2\n",
       "\n",
       "[583 rows x 4 columns]"
      ]
     },
     "execution_count": 41,
     "metadata": {},
     "output_type": "execute_result"
    }
   ],
   "source": [
    "# drops favoriteCount column, this is an old feature that does not longer exist on YouTube\n",
    "\n",
    "dfstats.drop(dfstats.columns[3],axis=1,inplace=True)"
   ]
  },
  {
   "cell_type": "code",
   "execution_count": null,
   "id": "2cb2662a",
   "metadata": {
    "scrolled": false
   },
   "outputs": [],
   "source": [
    "# ratio \n",
    "comments vs views\n",
    "#likes vs (likes + dislikes)"
   ]
  },
  {
   "cell_type": "code",
   "execution_count": null,
   "id": "559cd29f",
   "metadata": {},
   "outputs": [],
   "source": []
  },
  {
   "cell_type": "code",
   "execution_count": 42,
   "id": "7ad7fa7b",
   "metadata": {
    "collapsed": true
   },
   "outputs": [
    {
     "data": {
      "text/html": [
       "<div>\n",
       "<style scoped>\n",
       "    .dataframe tbody tr th:only-of-type {\n",
       "        vertical-align: middle;\n",
       "    }\n",
       "\n",
       "    .dataframe tbody tr th {\n",
       "        vertical-align: top;\n",
       "    }\n",
       "\n",
       "    .dataframe thead th {\n",
       "        text-align: right;\n",
       "    }\n",
       "</style>\n",
       "<table border=\"1\" class=\"dataframe\">\n",
       "  <thead>\n",
       "    <tr style=\"text-align: right;\">\n",
       "      <th></th>\n",
       "      <th>viewCount</th>\n",
       "      <th>likeCount</th>\n",
       "      <th>dislikeCount</th>\n",
       "      <th>commentCount</th>\n",
       "    </tr>\n",
       "  </thead>\n",
       "  <tbody>\n",
       "    <tr>\n",
       "      <th>pDIsEZsalAo</th>\n",
       "      <td>7291607</td>\n",
       "      <td>203813</td>\n",
       "      <td>2237</td>\n",
       "      <td>7001</td>\n",
       "    </tr>\n",
       "    <tr>\n",
       "      <th>Lc4SHa-O4T0</th>\n",
       "      <td>1406260</td>\n",
       "      <td>66629</td>\n",
       "      <td>649</td>\n",
       "      <td>2540</td>\n",
       "    </tr>\n",
       "    <tr>\n",
       "      <th>jYBjcEVTSB8</th>\n",
       "      <td>294957</td>\n",
       "      <td>14661</td>\n",
       "      <td>136</td>\n",
       "      <td>722</td>\n",
       "    </tr>\n",
       "    <tr>\n",
       "      <th>x5-GweOYXtk</th>\n",
       "      <td>361492</td>\n",
       "      <td>8440</td>\n",
       "      <td>103</td>\n",
       "      <td>341</td>\n",
       "    </tr>\n",
       "    <tr>\n",
       "      <th>69Vpk3VKXBE</th>\n",
       "      <td>1546009</td>\n",
       "      <td>29824</td>\n",
       "      <td>1030</td>\n",
       "      <td>921</td>\n",
       "    </tr>\n",
       "    <tr>\n",
       "      <th>...</th>\n",
       "      <td>...</td>\n",
       "      <td>...</td>\n",
       "      <td>...</td>\n",
       "      <td>...</td>\n",
       "    </tr>\n",
       "    <tr>\n",
       "      <th>qjArVukPOQo</th>\n",
       "      <td>412</td>\n",
       "      <td>39</td>\n",
       "      <td>0</td>\n",
       "      <td>6</td>\n",
       "    </tr>\n",
       "    <tr>\n",
       "      <th>VONBCPYE5GE</th>\n",
       "      <td>1</td>\n",
       "      <td>1</td>\n",
       "      <td>0</td>\n",
       "      <td>0</td>\n",
       "    </tr>\n",
       "    <tr>\n",
       "      <th>bzHwVr9D0Gc</th>\n",
       "      <td>54</td>\n",
       "      <td>5</td>\n",
       "      <td>0</td>\n",
       "      <td>1</td>\n",
       "    </tr>\n",
       "    <tr>\n",
       "      <th>kabRCLkQgfA</th>\n",
       "      <td>165</td>\n",
       "      <td>10</td>\n",
       "      <td>1</td>\n",
       "      <td>3</td>\n",
       "    </tr>\n",
       "    <tr>\n",
       "      <th>MfOMhlgP6Qs</th>\n",
       "      <td>30</td>\n",
       "      <td>6</td>\n",
       "      <td>0</td>\n",
       "      <td>2</td>\n",
       "    </tr>\n",
       "  </tbody>\n",
       "</table>\n",
       "<p>583 rows × 4 columns</p>\n",
       "</div>"
      ],
      "text/plain": [
       "             viewCount  likeCount  dislikeCount  commentCount\n",
       "pDIsEZsalAo    7291607     203813          2237          7001\n",
       "Lc4SHa-O4T0    1406260      66629           649          2540\n",
       "jYBjcEVTSB8     294957      14661           136           722\n",
       "x5-GweOYXtk     361492       8440           103           341\n",
       "69Vpk3VKXBE    1546009      29824          1030           921\n",
       "...                ...        ...           ...           ...\n",
       "qjArVukPOQo        412         39             0             6\n",
       "VONBCPYE5GE          1          1             0             0\n",
       "bzHwVr9D0Gc         54          5             0             1\n",
       "kabRCLkQgfA        165         10             1             3\n",
       "MfOMhlgP6Qs         30          6             0             2\n",
       "\n",
       "[583 rows x 4 columns]"
      ]
     },
     "execution_count": 42,
     "metadata": {},
     "output_type": "execute_result"
    }
   ],
   "source": []
  },
  {
   "cell_type": "code",
   "execution_count": null,
   "id": "3d4bccf0",
   "metadata": {},
   "outputs": [],
   "source": [
    "dfstats.to_csv('video_statistics.csv', index_label ='id')"
   ]
  },
  {
   "cell_type": "code",
   "execution_count": 24,
   "id": "ece3ee86",
   "metadata": {
    "scrolled": true
   },
   "outputs": [],
   "source": [
    "# --- start of gathering snippets --- #\n",
    "cnt=0\n",
    "for vid in videoIDs:\n",
    "    cnt+=1\n",
    "    if (cnt==3): break\n",
    "    snippets = youtube.videos().list(part='snippet',id=vid)"
   ]
  },
  {
   "cell_type": "code",
   "execution_count": 25,
   "id": "86e3acd6",
   "metadata": {},
   "outputs": [],
   "source": [
    "# response for snippet\n",
    "response_snippets = []\n",
    "\n",
    "for item in videoIDs:\n",
    "    snippets = youtube.videos().list(part='snippet',id=item)\n",
    "    response_snippets.append(snippets.execute())\n",
    "    res_snippets = {}\n",
    "    \n",
    "    for item in response_snippets:\n",
    "        snippets = item['items'][0]['snippet'] \n",
    "        res_snippets[item['items'][0]['id']] = snippets"
   ]
  },
  {
   "cell_type": "code",
   "execution_count": 26,
   "id": "98cea0f9",
   "metadata": {},
   "outputs": [],
   "source": [
    "# output snippets to json file\n",
    "\n",
    "converted_to_string = json.dumps(res_snippets)\n",
    "f = open('snippet_output.json', 'a', encoding='utf-8')\n",
    "f.write(converted_to_string + '\\n')\n",
    "f.close()"
   ]
  },
  {
   "cell_type": "code",
   "execution_count": 27,
   "id": "d1be6994",
   "metadata": {
    "scrolled": true
   },
   "outputs": [],
   "source": [
    "# read json file for snippet\n",
    "f = open('snippet_output.json', 'r', encoding='utf-8')\n",
    "content = f.readlines()\n",
    "for item in content:\n",
    "    jsonobj = json.loads(item)\n",
    "    f.close()"
   ]
  },
  {
   "cell_type": "code",
   "execution_count": 28,
   "id": "c6544380",
   "metadata": {
    "scrolled": false
   },
   "outputs": [],
   "source": [
    "# write df for snippet to csv\n",
    "dfsnip = pd.read_json(r'snippet_output.json', orient = 'index')\n",
    "#dfsnip.to_csv('video_snippets.csv', index_label ='id')"
   ]
  },
  {
   "cell_type": "code",
   "execution_count": 29,
   "id": "c6ba23fd",
   "metadata": {},
   "outputs": [
    {
     "data": {
      "text/html": [
       "<div>\n",
       "<style scoped>\n",
       "    .dataframe tbody tr th:only-of-type {\n",
       "        vertical-align: middle;\n",
       "    }\n",
       "\n",
       "    .dataframe tbody tr th {\n",
       "        vertical-align: top;\n",
       "    }\n",
       "\n",
       "    .dataframe thead th {\n",
       "        text-align: right;\n",
       "    }\n",
       "</style>\n",
       "<table border=\"1\" class=\"dataframe\">\n",
       "  <thead>\n",
       "    <tr style=\"text-align: right;\">\n",
       "      <th></th>\n",
       "      <th>publishedAt</th>\n",
       "      <th>channelId</th>\n",
       "      <th>title</th>\n",
       "      <th>description</th>\n",
       "      <th>thumbnails</th>\n",
       "      <th>channelTitle</th>\n",
       "      <th>tags</th>\n",
       "      <th>categoryId</th>\n",
       "      <th>liveBroadcastContent</th>\n",
       "      <th>localized</th>\n",
       "      <th>defaultAudioLanguage</th>\n",
       "      <th>defaultLanguage</th>\n",
       "    </tr>\n",
       "  </thead>\n",
       "  <tbody>\n",
       "    <tr>\n",
       "      <th>pDIsEZsalAo</th>\n",
       "      <td>2018-05-23T15:33:40Z</td>\n",
       "      <td>UCIcCXe3iWo6lq-iWKV40Oug</td>\n",
       "      <td>FL Studio 20  -  Complete Beginner Basics Tuto...</td>\n",
       "      <td>This video is the first in the FL Studio 20 Ba...</td>\n",
       "      <td>{'default': {'url': 'https://i.ytimg.com/vi/pD...</td>\n",
       "      <td>In The Mix</td>\n",
       "      <td>[FL Studio 20, FL Studio 20 begginer tutorial,...</td>\n",
       "      <td>26</td>\n",
       "      <td>none</td>\n",
       "      <td>{'title': 'FL Studio 20  -  Complete Beginner ...</td>\n",
       "      <td>en-GB</td>\n",
       "      <td>NaN</td>\n",
       "    </tr>\n",
       "    <tr>\n",
       "      <th>Lc4SHa-O4T0</th>\n",
       "      <td>2020-05-28T18:00:09Z</td>\n",
       "      <td>UC4Oy0UtQpTBGX46q_OkWzXg</td>\n",
       "      <td>FL STUDIO 20 BEGINNER BEAT MAKING TUTORIAL 202...</td>\n",
       "      <td>FL STUDIO 20 BEGINNER BEAT MAKING TUTORIAL 202...</td>\n",
       "      <td>{'default': {'url': 'https://i.ytimg.com/vi/Lc...</td>\n",
       "      <td>Chuki Beats II</td>\n",
       "      <td>[making a beat in fl studio, making a beat, ma...</td>\n",
       "      <td>26</td>\n",
       "      <td>none</td>\n",
       "      <td>{'title': 'FL STUDIO 20 BEGINNER BEAT MAKING T...</td>\n",
       "      <td>en</td>\n",
       "      <td>en</td>\n",
       "    </tr>\n",
       "    <tr>\n",
       "      <th>jYBjcEVTSB8</th>\n",
       "      <td>2020-12-25T16:21:45Z</td>\n",
       "      <td>UC4Oy0UtQpTBGX46q_OkWzXg</td>\n",
       "      <td>FL STUDIO BEAT MAKING TUTORIAL FOR BEGINNERS 2...</td>\n",
       "      <td>'Secret Sauce' , Episode 1 - How to make beats...</td>\n",
       "      <td>{'default': {'url': 'https://i.ytimg.com/vi/jY...</td>\n",
       "      <td>Chuki Beats II</td>\n",
       "      <td>[making a beat in fl studio, making a beat, ma...</td>\n",
       "      <td>26</td>\n",
       "      <td>none</td>\n",
       "      <td>{'title': 'FL STUDIO BEAT MAKING TUTORIAL FOR ...</td>\n",
       "      <td>en</td>\n",
       "      <td>en</td>\n",
       "    </tr>\n",
       "    <tr>\n",
       "      <th>x5-GweOYXtk</th>\n",
       "      <td>2020-01-29T09:18:58Z</td>\n",
       "      <td>UCIUtwq6jMFYQj2ASOj95TGw</td>\n",
       "      <td>FL Studio 20 Tutorial | Full FL Studio Crash C...</td>\n",
       "      <td>✅Click Below to get our full Complete FL Studi...</td>\n",
       "      <td>{'default': {'url': 'https://i.ytimg.com/vi/x5...</td>\n",
       "      <td>Tomas George</td>\n",
       "      <td>NaN</td>\n",
       "      <td>27</td>\n",
       "      <td>none</td>\n",
       "      <td>{'title': 'FL Studio 20 Tutorial | Full FL Stu...</td>\n",
       "      <td>en-GB</td>\n",
       "      <td>NaN</td>\n",
       "    </tr>\n",
       "    <tr>\n",
       "      <th>69Vpk3VKXBE</th>\n",
       "      <td>2019-06-12T15:57:43Z</td>\n",
       "      <td>UC1kdsZUTDSW1BtsHEoYx4WQ</td>\n",
       "      <td>How to Make a Song in FL Studio 20 💻 | Softwar...</td>\n",
       "      <td>More videos like this FL Studio lesson 👉 https...</td>\n",
       "      <td>{'default': {'url': 'https://i.ytimg.com/vi/69...</td>\n",
       "      <td>Sweetwater</td>\n",
       "      <td>[fl studio, fl studio tutorial, fl studio 20, ...</td>\n",
       "      <td>10</td>\n",
       "      <td>none</td>\n",
       "      <td>{'title': 'How to Make a Song in FL Studio 20 ...</td>\n",
       "      <td>en</td>\n",
       "      <td>en</td>\n",
       "    </tr>\n",
       "    <tr>\n",
       "      <th>...</th>\n",
       "      <td>...</td>\n",
       "      <td>...</td>\n",
       "      <td>...</td>\n",
       "      <td>...</td>\n",
       "      <td>...</td>\n",
       "      <td>...</td>\n",
       "      <td>...</td>\n",
       "      <td>...</td>\n",
       "      <td>...</td>\n",
       "      <td>...</td>\n",
       "      <td>...</td>\n",
       "      <td>...</td>\n",
       "    </tr>\n",
       "    <tr>\n",
       "      <th>qjArVukPOQo</th>\n",
       "      <td>2021-11-25T00:37:52Z</td>\n",
       "      <td>UCJ0sIAYr-4oy6U8N3CGCKSg</td>\n",
       "      <td>Buju - Testimony - Remake/Tutorial</td>\n",
       "      <td>[Checkout My Soundkits]\\n\\nRemake Pack vol1\\nh...</td>\n",
       "      <td>{'default': {'url': 'https://i.ytimg.com/vi/qj...</td>\n",
       "      <td>POJbeatz</td>\n",
       "      <td>NaN</td>\n",
       "      <td>10</td>\n",
       "      <td>none</td>\n",
       "      <td>{'title': 'Buju - Testimony - Remake/Tutorial'...</td>\n",
       "      <td>NaN</td>\n",
       "      <td>NaN</td>\n",
       "    </tr>\n",
       "    <tr>\n",
       "      <th>VONBCPYE5GE</th>\n",
       "      <td>2021-11-25T18:10:05Z</td>\n",
       "      <td>UCgv3j_g6yhWhuw1qHDfOqTw</td>\n",
       "      <td>Travis Scott Type Beat In 1min Fl Studio Tutorial</td>\n",
       "      <td>#Shorts \\nSocial Media:\\nPeep My Email : Abdel...</td>\n",
       "      <td>{'default': {'url': 'https://i.ytimg.com/vi/VO...</td>\n",
       "      <td>S1ck Beats</td>\n",
       "      <td>NaN</td>\n",
       "      <td>10</td>\n",
       "      <td>none</td>\n",
       "      <td>{'title': 'Travis Scott Type Beat In 1min Fl S...</td>\n",
       "      <td>NaN</td>\n",
       "      <td>NaN</td>\n",
       "    </tr>\n",
       "    <tr>\n",
       "      <th>bzHwVr9D0Gc</th>\n",
       "      <td>2021-11-25T02:58:34Z</td>\n",
       "      <td>UCe1ZcXa-vUWV3FqL9ouBHEQ</td>\n",
       "      <td>How to Add song in FL studio mobile || fl stud...</td>\n",
       "      <td>How to Add song in FL studio\\nFL studio mixing...</td>\n",
       "      <td>{'default': {'url': 'https://i.ytimg.com/vi/bz...</td>\n",
       "      <td>TIMLI REMIX</td>\n",
       "      <td>NaN</td>\n",
       "      <td>10</td>\n",
       "      <td>none</td>\n",
       "      <td>{'title': 'How to Add song in FL studio mobile...</td>\n",
       "      <td>NaN</td>\n",
       "      <td>NaN</td>\n",
       "    </tr>\n",
       "    <tr>\n",
       "      <th>kabRCLkQgfA</th>\n",
       "      <td>2021-11-24T11:59:37Z</td>\n",
       "      <td>UCbJ6U16IWGjKgbJKNqRmlKg</td>\n",
       "      <td>How to Produce for Ami Faku |FL Studio Tutorial</td>\n",
       "      <td></td>\n",
       "      <td>{'default': {'url': 'https://i.ytimg.com/vi/ka...</td>\n",
       "      <td>Wayno</td>\n",
       "      <td>NaN</td>\n",
       "      <td>10</td>\n",
       "      <td>none</td>\n",
       "      <td>{'title': 'How to Produce for Ami Faku |FL Stu...</td>\n",
       "      <td>NaN</td>\n",
       "      <td>NaN</td>\n",
       "    </tr>\n",
       "    <tr>\n",
       "      <th>MfOMhlgP6Qs</th>\n",
       "      <td>2021-11-19T13:19:21Z</td>\n",
       "      <td>UC37LAYb2JNua3OtPbMI_tfw</td>\n",
       "      <td>FL Studio 20 Tutorial | Making a Gengetone Bea...</td>\n",
       "      <td>FL Studio 20 Tutorial | Making a  Gengetone Be...</td>\n",
       "      <td>{'default': {'url': 'https://i.ytimg.com/vi/Mf...</td>\n",
       "      <td>Hq Pro Kavirus</td>\n",
       "      <td>NaN</td>\n",
       "      <td>24</td>\n",
       "      <td>none</td>\n",
       "      <td>{'title': 'FL Studio 20 Tutorial | Making a Ge...</td>\n",
       "      <td>NaN</td>\n",
       "      <td>NaN</td>\n",
       "    </tr>\n",
       "  </tbody>\n",
       "</table>\n",
       "<p>583 rows × 12 columns</p>\n",
       "</div>"
      ],
      "text/plain": [
       "                      publishedAt                 channelId  \\\n",
       "pDIsEZsalAo  2018-05-23T15:33:40Z  UCIcCXe3iWo6lq-iWKV40Oug   \n",
       "Lc4SHa-O4T0  2020-05-28T18:00:09Z  UC4Oy0UtQpTBGX46q_OkWzXg   \n",
       "jYBjcEVTSB8  2020-12-25T16:21:45Z  UC4Oy0UtQpTBGX46q_OkWzXg   \n",
       "x5-GweOYXtk  2020-01-29T09:18:58Z  UCIUtwq6jMFYQj2ASOj95TGw   \n",
       "69Vpk3VKXBE  2019-06-12T15:57:43Z  UC1kdsZUTDSW1BtsHEoYx4WQ   \n",
       "...                           ...                       ...   \n",
       "qjArVukPOQo  2021-11-25T00:37:52Z  UCJ0sIAYr-4oy6U8N3CGCKSg   \n",
       "VONBCPYE5GE  2021-11-25T18:10:05Z  UCgv3j_g6yhWhuw1qHDfOqTw   \n",
       "bzHwVr9D0Gc  2021-11-25T02:58:34Z  UCe1ZcXa-vUWV3FqL9ouBHEQ   \n",
       "kabRCLkQgfA  2021-11-24T11:59:37Z  UCbJ6U16IWGjKgbJKNqRmlKg   \n",
       "MfOMhlgP6Qs  2021-11-19T13:19:21Z  UC37LAYb2JNua3OtPbMI_tfw   \n",
       "\n",
       "                                                         title  \\\n",
       "pDIsEZsalAo  FL Studio 20  -  Complete Beginner Basics Tuto...   \n",
       "Lc4SHa-O4T0  FL STUDIO 20 BEGINNER BEAT MAKING TUTORIAL 202...   \n",
       "jYBjcEVTSB8  FL STUDIO BEAT MAKING TUTORIAL FOR BEGINNERS 2...   \n",
       "x5-GweOYXtk  FL Studio 20 Tutorial | Full FL Studio Crash C...   \n",
       "69Vpk3VKXBE  How to Make a Song in FL Studio 20 💻 | Softwar...   \n",
       "...                                                        ...   \n",
       "qjArVukPOQo                 Buju - Testimony - Remake/Tutorial   \n",
       "VONBCPYE5GE  Travis Scott Type Beat In 1min Fl Studio Tutorial   \n",
       "bzHwVr9D0Gc  How to Add song in FL studio mobile || fl stud...   \n",
       "kabRCLkQgfA    How to Produce for Ami Faku |FL Studio Tutorial   \n",
       "MfOMhlgP6Qs  FL Studio 20 Tutorial | Making a Gengetone Bea...   \n",
       "\n",
       "                                                   description  \\\n",
       "pDIsEZsalAo  This video is the first in the FL Studio 20 Ba...   \n",
       "Lc4SHa-O4T0  FL STUDIO 20 BEGINNER BEAT MAKING TUTORIAL 202...   \n",
       "jYBjcEVTSB8  'Secret Sauce' , Episode 1 - How to make beats...   \n",
       "x5-GweOYXtk  ✅Click Below to get our full Complete FL Studi...   \n",
       "69Vpk3VKXBE  More videos like this FL Studio lesson 👉 https...   \n",
       "...                                                        ...   \n",
       "qjArVukPOQo  [Checkout My Soundkits]\\n\\nRemake Pack vol1\\nh...   \n",
       "VONBCPYE5GE  #Shorts \\nSocial Media:\\nPeep My Email : Abdel...   \n",
       "bzHwVr9D0Gc  How to Add song in FL studio\\nFL studio mixing...   \n",
       "kabRCLkQgfA                                                      \n",
       "MfOMhlgP6Qs  FL Studio 20 Tutorial | Making a  Gengetone Be...   \n",
       "\n",
       "                                                    thumbnails  \\\n",
       "pDIsEZsalAo  {'default': {'url': 'https://i.ytimg.com/vi/pD...   \n",
       "Lc4SHa-O4T0  {'default': {'url': 'https://i.ytimg.com/vi/Lc...   \n",
       "jYBjcEVTSB8  {'default': {'url': 'https://i.ytimg.com/vi/jY...   \n",
       "x5-GweOYXtk  {'default': {'url': 'https://i.ytimg.com/vi/x5...   \n",
       "69Vpk3VKXBE  {'default': {'url': 'https://i.ytimg.com/vi/69...   \n",
       "...                                                        ...   \n",
       "qjArVukPOQo  {'default': {'url': 'https://i.ytimg.com/vi/qj...   \n",
       "VONBCPYE5GE  {'default': {'url': 'https://i.ytimg.com/vi/VO...   \n",
       "bzHwVr9D0Gc  {'default': {'url': 'https://i.ytimg.com/vi/bz...   \n",
       "kabRCLkQgfA  {'default': {'url': 'https://i.ytimg.com/vi/ka...   \n",
       "MfOMhlgP6Qs  {'default': {'url': 'https://i.ytimg.com/vi/Mf...   \n",
       "\n",
       "               channelTitle  \\\n",
       "pDIsEZsalAo      In The Mix   \n",
       "Lc4SHa-O4T0  Chuki Beats II   \n",
       "jYBjcEVTSB8  Chuki Beats II   \n",
       "x5-GweOYXtk    Tomas George   \n",
       "69Vpk3VKXBE      Sweetwater   \n",
       "...                     ...   \n",
       "qjArVukPOQo        POJbeatz   \n",
       "VONBCPYE5GE      S1ck Beats   \n",
       "bzHwVr9D0Gc     TIMLI REMIX   \n",
       "kabRCLkQgfA           Wayno   \n",
       "MfOMhlgP6Qs  Hq Pro Kavirus   \n",
       "\n",
       "                                                          tags  categoryId  \\\n",
       "pDIsEZsalAo  [FL Studio 20, FL Studio 20 begginer tutorial,...          26   \n",
       "Lc4SHa-O4T0  [making a beat in fl studio, making a beat, ma...          26   \n",
       "jYBjcEVTSB8  [making a beat in fl studio, making a beat, ma...          26   \n",
       "x5-GweOYXtk                                                NaN          27   \n",
       "69Vpk3VKXBE  [fl studio, fl studio tutorial, fl studio 20, ...          10   \n",
       "...                                                        ...         ...   \n",
       "qjArVukPOQo                                                NaN          10   \n",
       "VONBCPYE5GE                                                NaN          10   \n",
       "bzHwVr9D0Gc                                                NaN          10   \n",
       "kabRCLkQgfA                                                NaN          10   \n",
       "MfOMhlgP6Qs                                                NaN          24   \n",
       "\n",
       "            liveBroadcastContent  \\\n",
       "pDIsEZsalAo                 none   \n",
       "Lc4SHa-O4T0                 none   \n",
       "jYBjcEVTSB8                 none   \n",
       "x5-GweOYXtk                 none   \n",
       "69Vpk3VKXBE                 none   \n",
       "...                          ...   \n",
       "qjArVukPOQo                 none   \n",
       "VONBCPYE5GE                 none   \n",
       "bzHwVr9D0Gc                 none   \n",
       "kabRCLkQgfA                 none   \n",
       "MfOMhlgP6Qs                 none   \n",
       "\n",
       "                                                     localized  \\\n",
       "pDIsEZsalAo  {'title': 'FL Studio 20  -  Complete Beginner ...   \n",
       "Lc4SHa-O4T0  {'title': 'FL STUDIO 20 BEGINNER BEAT MAKING T...   \n",
       "jYBjcEVTSB8  {'title': 'FL STUDIO BEAT MAKING TUTORIAL FOR ...   \n",
       "x5-GweOYXtk  {'title': 'FL Studio 20 Tutorial | Full FL Stu...   \n",
       "69Vpk3VKXBE  {'title': 'How to Make a Song in FL Studio 20 ...   \n",
       "...                                                        ...   \n",
       "qjArVukPOQo  {'title': 'Buju - Testimony - Remake/Tutorial'...   \n",
       "VONBCPYE5GE  {'title': 'Travis Scott Type Beat In 1min Fl S...   \n",
       "bzHwVr9D0Gc  {'title': 'How to Add song in FL studio mobile...   \n",
       "kabRCLkQgfA  {'title': 'How to Produce for Ami Faku |FL Stu...   \n",
       "MfOMhlgP6Qs  {'title': 'FL Studio 20 Tutorial | Making a Ge...   \n",
       "\n",
       "            defaultAudioLanguage defaultLanguage  \n",
       "pDIsEZsalAo                en-GB             NaN  \n",
       "Lc4SHa-O4T0                   en              en  \n",
       "jYBjcEVTSB8                   en              en  \n",
       "x5-GweOYXtk                en-GB             NaN  \n",
       "69Vpk3VKXBE                   en              en  \n",
       "...                          ...             ...  \n",
       "qjArVukPOQo                  NaN             NaN  \n",
       "VONBCPYE5GE                  NaN             NaN  \n",
       "bzHwVr9D0Gc                  NaN             NaN  \n",
       "kabRCLkQgfA                  NaN             NaN  \n",
       "MfOMhlgP6Qs                  NaN             NaN  \n",
       "\n",
       "[583 rows x 12 columns]"
      ]
     },
     "execution_count": 29,
     "metadata": {},
     "output_type": "execute_result"
    }
   ],
   "source": [
    "dfsnip #vgm kan/hoeft er niks aangepast worden in dfsnip\n",
    "#livebroadcast kan er uit\n"
   ]
  },
  {
   "cell_type": "code",
   "execution_count": null,
   "id": "8f37a470",
   "metadata": {},
   "outputs": [],
   "source": [
    "#--- creation of Channel ID list ---#\n",
    "ChannelIDs = []\n",
    "\n",
    "for item in search_res:\n",
    "    ChannelIDs.append(item['channelId'])"
   ]
  },
  {
   "cell_type": "code",
   "execution_count": null,
   "id": "f1d31152",
   "metadata": {
    "scrolled": true
   },
   "outputs": [],
   "source": [
    "# Response channel\n",
    "\n",
    "response_channel = []\n",
    "res_channel = []\n",
    "res_channels = {}\n",
    "for chn in ChannelIDs:\n",
    "    channel = youtube.channels().list(part='statistics',id=chn)\n",
    "    response_channel.append(channel.execute())\n",
    "    \n",
    "    for chn in response_channel:\n",
    "        channelstat = chn['items'][0]['statistics']\n",
    "        res_channels[chn['items'][0]['id']] = channelstat"
   ]
  },
  {
   "cell_type": "code",
   "execution_count": null,
   "id": "fd1caac2",
   "metadata": {},
   "outputs": [],
   "source": [
    "# output channel to json file\n",
    "\n",
    "converted_to_string = json.dumps(res_channels)\n",
    "f = open('channels_output.json', 'a', encoding='utf-8')\n",
    "f.write(converted_to_string + '\\n')\n",
    "f.close()"
   ]
  },
  {
   "cell_type": "code",
   "execution_count": null,
   "id": "ca598b10",
   "metadata": {
    "scrolled": true
   },
   "outputs": [],
   "source": [
    "# read json file for channel\n",
    "f = open('channels_output.json', 'r', encoding='utf-8')\n",
    "content = f.readlines()\n",
    "for item in content:\n",
    "    jsonobj = json.loads(item)\n",
    "    f.close()"
   ]
  },
  {
   "cell_type": "code",
   "execution_count": null,
   "id": "7a995e94",
   "metadata": {},
   "outputs": [],
   "source": [
    "# write df for channel to csv\n",
    "dfchn = pd.read_json(r'channels_output.json', orient = 'index')\n",
    "dfchn.to_csv('video_channels.csv', index_label ='channelId')"
   ]
  },
  {
   "cell_type": "code",
   "execution_count": null,
   "id": "911bbaa3",
   "metadata": {
    "scrolled": true
   },
   "outputs": [],
   "source": [
    "#--- merging the video snippets and statistics --- #\n",
    "dfsnip = pd.read_csv('video_snippets.csv')\n",
    "dfstats = pd.read_csv('video_statistics.csv')\n",
    "\n",
    "dfmerged = dfsnip.merge(dfstats, on='id')\n",
    "dfmerged.to_csv('video_output.csv')"
   ]
  },
  {
   "cell_type": "code",
   "execution_count": null,
   "id": "086581b5",
   "metadata": {},
   "outputs": [],
   "source": [
    "# to do list\n",
    "# functies inbouwen voor ratios maken\n",
    "# favorite count deleten             ------ check\n",
    "# kopjes in tabelen verbeteren"
   ]
  },
  {
   "cell_type": "code",
   "execution_count": null,
   "id": "7073a861",
   "metadata": {},
   "outputs": [],
   "source": []
  }
 ],
 "metadata": {
  "kernelspec": {
   "display_name": "Python 3",
   "language": "python",
   "name": "python3"
  },
  "language_info": {
   "codemirror_mode": {
    "name": "ipython",
    "version": 3
   },
   "file_extension": ".py",
   "mimetype": "text/x-python",
   "name": "python",
   "nbconvert_exporter": "python",
   "pygments_lexer": "ipython3",
   "version": "3.8.8"
  }
 },
 "nbformat": 4,
 "nbformat_minor": 5
}
