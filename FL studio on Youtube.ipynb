{
 "cells": [
  {
   "cell_type": "markdown",
   "id": "f4488951",
   "metadata": {},
   "source": [
    "# FL Studio Tuturials on Youtube"
   ]
  },
  {
   "cell_type": "markdown",
   "id": "4addbe76",
   "metadata": {},
   "source": [
    "## Getting started"
   ]
  },
  {
   "cell_type": "code",
   "execution_count": null,
   "id": "3767e21b",
   "metadata": {},
   "outputs": [],
   "source": [
    "# Run this cell once, this will install the API client.\n",
    "pip install google-api-python-client"
   ]
  },
  {
   "cell_type": "markdown",
   "id": "9f9bfa6e",
   "metadata": {},
   "source": [
    "#### Once installed, restart and clean the kernel and continue from here:"
   ]
  },
  {
   "cell_type": "code",
   "execution_count": null,
   "id": "e92c290e",
   "metadata": {},
   "outputs": [],
   "source": [
    "from googleapiclient.discovery import build\n",
    "import csv\n",
    "import time\n",
    "import os\n",
    "import json\n",
    "import pandas as pd"
   ]
  },
  {
   "cell_type": "markdown",
   "id": "4720aadc",
   "metadata": {},
   "source": [
    "#### Create an api_key and store this credential as a Environment Variable on your local device\n",
    "In this project, the variable is defined in Terminal as  \"YOUTUBE_API\". For more information, check [this page](https://tilburgsciencehub.com/building-blocks/store-and-document-your-data/store-data/environment-variables/) or [this instructional video](https://www.youtube.com/watch?v=5iWhQWVXosU)."
   ]
  },
  {
   "cell_type": "code",
   "execution_count": null,
   "id": "bf2c709d",
   "metadata": {},
   "outputs": [],
   "source": [
    "api_key = os.environ[\"YOUTUBE_API\"]"
   ]
  },
  {
   "cell_type": "code",
   "execution_count": null,
   "id": "a99ac420",
   "metadata": {},
   "outputs": [],
   "source": [
    "youtube = build('youtube', 'v3', developerKey= api_key)\n",
    "youtube"
   ]
  },
  {
   "cell_type": "markdown",
   "id": "ea47f2f8",
   "metadata": {},
   "source": [
    "#### Testing the systems\n",
    "The cells below will check whether the API functions. "
   ]
  },
  {
   "cell_type": "code",
   "execution_count": null,
   "id": "c22a71a4",
   "metadata": {},
   "outputs": [],
   "source": [
    "# check the default number of results, this should give 5\n",
    "request = youtube.search().list(\n",
    "            q='FL tutorial',\n",
    "            part='snippet',\n",
    "            type='video')\n",
    "response = request.execute()\n",
    "print('Total items: ' , len(response['items']))"
   ]
  },
  {
   "cell_type": "code",
   "execution_count": null,
   "id": "f1278f26",
   "metadata": {
    "scrolled": true
   },
   "outputs": [],
   "source": [
    "# use this to increase to max of 50\n",
    "request = youtube.search().list(q='FL tutorial',part='snippet',type='video',maxResults=50)\n",
    "response = request.execute()\n",
    "print('Total items: ' , len(response['items']))"
   ]
  },
  {
   "cell_type": "markdown",
   "id": "ce1527b5",
   "metadata": {},
   "source": [
    "If the two cells above gave you the outputs **5** and **50** respectfully, the API works correctly."
   ]
  },
  {
   "cell_type": "markdown",
   "id": "dfe5d82f",
   "metadata": {},
   "source": [
    "#### Gathering the data"
   ]
  },
  {
   "cell_type": "code",
   "execution_count": null,
   "id": "135a5a02",
   "metadata": {
    "scrolled": true
   },
   "outputs": [],
   "source": [
    "# print only the titles of the results within the retrieval range of 50.\n",
    "# wat doet search, wat doet list, wat is parameter q, wat  is parameter part, type, maxresults\n",
    "request = youtube.search().list(q='FL tutorial',part='snippet',type='video',maxResults=50)\n",
    "response = request.execute()\n",
    "next_page = response['nextPageToken']\n",
    "print(next_page) # to get next page token\n",
    "for item in response['items']:\n",
    "    print(item['snippet']['title'])\n"
   ]
  },
  {
   "cell_type": "code",
   "execution_count": null,
   "id": "6f4a6644",
   "metadata": {
    "scrolled": true
   },
   "outputs": [],
   "source": [
    "# counts results within the retrieval range of 50 per page.\n",
    "# with every page the output provides iteration number and the nextPageToken\n",
    "no_requests = 0\n",
    "max_requests = 100\n",
    "\n",
    "search_res = []\n",
    "\n",
    "while no_requests <= max_requests:\n",
    "    try:\n",
    "        no_requests += 1\n",
    "        print('iteration number:' + str(no_requests))   ## kan weg\n",
    "        if (no_requests==1): \n",
    "            request = youtube.search().list(q='FL tutorial',part='snippet',type='video',maxResults=50)\n",
    "        else:\n",
    "            request = youtube.search().list(q='FL tutorial',part='snippet',type='video',maxResults=50, pageToken = next_page)\n",
    "\n",
    "        response = request.execute()\n",
    "        next_page = response['nextPageToken']\n",
    "        print(next_page)   ## kan weg\n",
    "    except:    \n",
    "        break\n",
    "    for item in response['items']:\n",
    "        search_res.append(item['snippet'])\n",
    "    time.sleep(2)\n",
    "\n",
    "len(search_res)"
   ]
  },
  {
   "cell_type": "code",
   "execution_count": null,
   "id": "80502aaf",
   "metadata": {
    "scrolled": false
   },
   "outputs": [],
   "source": [
    "# makes a list of videoIDs\n",
    "\n",
    "videoIDs = []\n",
    "\n",
    "for item in search_res:\n",
    "    videoIDs.append(item['thumbnails']['default']['url'][23:34])\n",
    "\n",
    "print(\"Found \" + str(len(videoIDs)) + \" video IDs!\")"
   ]
  },
  {
   "cell_type": "code",
   "execution_count": null,
   "id": "232725dd",
   "metadata": {
    "scrolled": false
   },
   "outputs": [],
   "source": [
    "# --- stats --- #\n",
    "cnt=0\n",
    "for vid in videoIDs:\n",
    "    cnt+=1\n",
    "    if (cnt==3): \n",
    "        break   # overview for only 3 results, just to give impression\n",
    "    stats = youtube.videos().list(part='statistics',id=vid)\n",
    "    print(stats.execute())"
   ]
  },
  {
   "cell_type": "code",
   "execution_count": null,
   "id": "f4d63de7",
   "metadata": {
    "scrolled": true
   },
   "outputs": [],
   "source": [
    "# response for stats \n",
    "response_stats = []\n",
    "\n",
    "for vid in videoIDs:\n",
    "    stats = youtube.videos().list(part='statistics',id=vid)\n",
    "    response_stats.append(stats.execute())\n",
    "    res_stats = {}\n",
    "    \n",
    "    for item in response_stats:\n",
    "        stats = item['items'][0]['statistics']\n",
    "        res_stats[item['items'][0]['id']] = stats\n",
    "\n",
    "res_stats"
   ]
  },
  {
   "cell_type": "code",
   "execution_count": null,
   "id": "a7b6f1dc",
   "metadata": {},
   "outputs": [],
   "source": [
    "# output stats to json file\n",
    "import json\n",
    "converted_to_string = json.dumps(res_stats)\n",
    "f = open('stats_output.json', 'a', encoding='utf-8')\n",
    "f.write(converted_to_string + '\\n')\n",
    "f.close()"
   ]
  },
  {
   "cell_type": "code",
   "execution_count": null,
   "id": "71fba301",
   "metadata": {
    "scrolled": true
   },
   "outputs": [],
   "source": [
    "# read json file for stats\n",
    "f = open('stats_output.json', 'r', encoding='utf-8')\n",
    "content = f.readlines()\n",
    "for item in content:\n",
    "    jsonobj = json.loads(item)\n",
    "    f.close()"
   ]
  },
  {
   "cell_type": "code",
   "execution_count": null,
   "id": "d6437dd7",
   "metadata": {
    "scrolled": false
   },
   "outputs": [],
   "source": [
    "# read json df for stats\n",
    "\n",
    "import pandas as pd\n",
    "dfstats = pd.read_json(r'stats_output.json', orient = 'index')\n",
    "dfstats"
   ]
  },
  {
   "cell_type": "code",
   "execution_count": null,
   "id": "3e751200",
   "metadata": {
    "scrolled": false
   },
   "outputs": [],
   "source": [
    "# write df for stats to csv\n",
    "dfstats.to_csv('video_statistics.csv', index_label ='id')"
   ]
  },
  {
   "cell_type": "markdown",
   "id": "b7b91390",
   "metadata": {},
   "source": [
    "END OF STATS"
   ]
  },
  {
   "cell_type": "code",
   "execution_count": null,
   "id": "ece3ee86",
   "metadata": {
    "scrolled": true
   },
   "outputs": [],
   "source": [
    "# --- snippets ---#\n",
    "cnt=0\n",
    "for vid in videoIDs:\n",
    "    cnt+=1\n",
    "    if (cnt==3): break\n",
    "    snippets = youtube.videos().list(part='snippet',id=vid)"
   ]
  },
  {
   "cell_type": "code",
   "execution_count": null,
   "id": "86e3acd6",
   "metadata": {},
   "outputs": [],
   "source": [
    "# response for snippet\n",
    "response_snippets = []\n",
    "\n",
    "for item in videoIDs:\n",
    "    snippets = youtube.videos().list(part='snippet',id=item)\n",
    "    response_snippets.append(snippets.execute())\n",
    "    res_snippets = {}\n",
    "    \n",
    "    for item in response_snippets:\n",
    "        snippets = item['items'][0]['snippet'] \n",
    "        res_snippets[item['items'][0]['id']] = snippets\n",
    "\n",
    "res_snippets"
   ]
  },
  {
   "cell_type": "code",
   "execution_count": null,
   "id": "98cea0f9",
   "metadata": {},
   "outputs": [],
   "source": [
    "# output snippets to json file\n",
    "\n",
    "converted_to_string = json.dumps(res_snippets)\n",
    "f = open('snippet_output.json', 'a', encoding='utf-8')\n",
    "f.write(converted_to_string + '\\n')\n",
    "f.close()"
   ]
  },
  {
   "cell_type": "code",
   "execution_count": null,
   "id": "d1be6994",
   "metadata": {
    "scrolled": true
   },
   "outputs": [],
   "source": [
    "# read json file for snippet\n",
    "f = open('snippet_output.json', 'r', encoding='utf-8')\n",
    "content = f.readlines()\n",
    "for item in content:\n",
    "    jsonobj = json.loads(item)\n",
    "    f.close()"
   ]
  },
  {
   "cell_type": "code",
   "execution_count": null,
   "id": "5235cedd",
   "metadata": {
    "scrolled": true
   },
   "outputs": [],
   "source": [
    "# read json df for snippet\n",
    "\n",
    "dfsnip = pd.read_json(r'snippet_output.json', orient = 'index')\n",
    "dfsnip"
   ]
  },
  {
   "cell_type": "code",
   "execution_count": null,
   "id": "c6544380",
   "metadata": {
    "scrolled": false
   },
   "outputs": [],
   "source": [
    "# write df for snippet to csv\n",
    "dfsnip.to_csv('video_snippets.csv', index_label ='id')"
   ]
  },
  {
   "cell_type": "markdown",
   "id": "9bb3eb67",
   "metadata": {},
   "source": [
    "END OF SNIPPETS"
   ]
  },
  {
   "cell_type": "code",
   "execution_count": null,
   "id": "8f37a470",
   "metadata": {},
   "outputs": [],
   "source": [
    "#--- creation of Channel ID list ---#\n",
    "ChannelIDs = []\n",
    "\n",
    "for item in search_res:\n",
    "    ChannelIDs.append(item['channelId'])\n",
    "\n",
    "ChannelIDs"
   ]
  },
  {
   "cell_type": "code",
   "execution_count": null,
   "id": "5133f7cf",
   "metadata": {
    "scrolled": false
   },
   "outputs": [],
   "source": [
    "# channel output\n",
    "cnt=0\n",
    "for chn in ChannelIDs:\n",
    "    cnt+=1\n",
    "    if (cnt==3): \n",
    "        break\n",
    "    channel = youtube.channels().list(part='statistics',id=chn)\n",
    "    print(channel.execute())"
   ]
  },
  {
   "cell_type": "code",
   "execution_count": null,
   "id": "f1d31152",
   "metadata": {
    "scrolled": true
   },
   "outputs": [],
   "source": [
    "# Response channel\n",
    "\n",
    "response_channel = []\n",
    "res_channel = []\n",
    "res_channels = {}\n",
    "for chn in ChannelIDs:\n",
    "    channel = youtube.channels().list(part='statistics',id=chn)\n",
    "    response_channel.append(channel.execute())\n",
    "    \n",
    "    for chn in response_channel:\n",
    "        channelstat = chn['items'][0]['statistics']\n",
    "        res_channels[chn['items'][0]['id']] = channelstat\n",
    "               \n",
    "res_channels"
   ]
  },
  {
   "cell_type": "code",
   "execution_count": null,
   "id": "fd1caac2",
   "metadata": {},
   "outputs": [],
   "source": [
    "# output channel to json file\n",
    "\n",
    "converted_to_string = json.dumps(res_channels)\n",
    "f = open('channels_output.json', 'a', encoding='utf-8')\n",
    "f.write(converted_to_string + '\\n')\n",
    "f.close()"
   ]
  },
  {
   "cell_type": "code",
   "execution_count": null,
   "id": "ca598b10",
   "metadata": {
    "scrolled": true
   },
   "outputs": [],
   "source": [
    "# read json file for channel\n",
    "f = open('channels_output.json', 'r', encoding='utf-8')\n",
    "content = f.readlines()\n",
    "for item in content:\n",
    "    jsonobj = json.loads(item)\n",
    "    f.close()"
   ]
  },
  {
   "cell_type": "code",
   "execution_count": null,
   "id": "7462a65f",
   "metadata": {
    "scrolled": true
   },
   "outputs": [],
   "source": [
    "# read json df for channel\n",
    "dfchn = pd.read_json(r'channels_output.json', orient = 'index')\n",
    "dfchn"
   ]
  },
  {
   "cell_type": "code",
   "execution_count": null,
   "id": "7a995e94",
   "metadata": {},
   "outputs": [],
   "source": [
    "# write df for channel to csv\n",
    "dfchn.to_csv('video_channels.csv', index_label ='channelId')"
   ]
  },
  {
   "cell_type": "markdown",
   "id": "16190429",
   "metadata": {},
   "source": [
    "END OF CHANNEL"
   ]
  },
  {
   "cell_type": "code",
   "execution_count": null,
   "id": "911bbaa3",
   "metadata": {
    "scrolled": true
   },
   "outputs": [],
   "source": [
    "#--- merging the video snippets and statistics --- #\n",
    "dfsnip = pd.read_csv('video_snippets.csv')\n",
    "dfstats = pd.read_csv('video_statistics.csv')\n",
    "\n",
    "dfmerged = dfsnip.merge(dfstats, on='id')\n",
    "dfmerged"
   ]
  },
  {
   "cell_type": "code",
   "execution_count": null,
   "id": "0fffc55a",
   "metadata": {},
   "outputs": [],
   "source": [
    "dfmerged.to_csv('video_output.csv')"
   ]
  },
  {
   "cell_type": "markdown",
   "id": "99aac54e",
   "metadata": {},
   "source": [
    "THE END"
   ]
  },
  {
   "cell_type": "code",
   "execution_count": null,
   "id": "086581b5",
   "metadata": {},
   "outputs": [],
   "source": []
  }
 ],
 "metadata": {
  "kernelspec": {
   "display_name": "Python 3",
   "language": "python",
   "name": "python3"
  },
  "language_info": {
   "codemirror_mode": {
    "name": "ipython",
    "version": 3
   },
   "file_extension": ".py",
   "mimetype": "text/x-python",
   "name": "python",
   "nbconvert_exporter": "python",
   "pygments_lexer": "ipython3",
   "version": "3.8.8"
  }
 },
 "nbformat": 4,
 "nbformat_minor": 5
}
